{
 "cells": [
  {
   "cell_type": "code",
   "execution_count": 1,
   "metadata": {},
   "outputs": [
    {
     "name": "stderr",
     "output_type": "stream",
     "text": [
      "Using TensorFlow backend.\n"
     ]
    }
   ],
   "source": [
    "import cv2\n",
    "import matplotlib.pyplot as plt\n",
    "from keras.models import Model\n",
    "from keras.models import load_model"
   ]
  },
  {
   "cell_type": "code",
   "execution_count": 2,
   "metadata": {},
   "outputs": [],
   "source": [
    "#provide directory for mnist_cnn_99.h5 file\n",
    "model = load_model('mnist_cnn_99.h5')"
   ]
  },
  {
   "cell_type": "code",
   "execution_count": 3,
   "metadata": {},
   "outputs": [],
   "source": [
    "def process_image(img):\n",
    "    print(\"Original Image\")\n",
    "    plt.imshow(img)\n",
    "    plt.show()\n",
    "    img = cv2.cvtColor(img, cv2.COLOR_BGR2GRAY)\n",
    "    print(\"Grayscale\")\n",
    "    plt.imshow(img,cmap='gray')\n",
    "    plt.show()\n",
    "    proc = cv2.GaussianBlur(img.copy(), (9, 9), 0)\n",
    "    print(\"Blurred\")\n",
    "    plt.imshow(proc,cmap='gray')\n",
    "    plt.show()\n",
    "    proc = cv2.adaptiveThreshold(proc, 255, cv2.ADAPTIVE_THRESH_GAUSSIAN_C, cv2.THRESH_BINARY, 11, 2)\n",
    "    print(\"cleaned\")\n",
    "    plt.imshow(proc,cmap='gray')\n",
    "    plt.show()\n",
    "    proc = ~proc\n",
    "    print(\"inverted\")\n",
    "    plt.imshow(proc,cmap='gray')\n",
    "    plt.show()\n",
    "    proc = cv2.resize(proc,(28,28))\n",
    "    print(\"resized\")\n",
    "    plt.imshow(proc,cmap='gray')\n",
    "    plt.show()\n",
    "    img_array = proc.reshape(1, 28, 28, 1)\n",
    "    return img_array"
   ]
  },
  {
   "cell_type": "code",
   "execution_count": 4,
   "metadata": {},
   "outputs": [],
   "source": [
    "#read image stored on device by providing complete address of image\n",
    "#image = cv2.imread('crop.jpg')"
   ]
  },
  {
   "cell_type": "code",
   "execution_count": 5,
   "metadata": {},
   "outputs": [],
   "source": [
    "def get_number(image):\n",
    "    image_array = process_image(image)\n",
    "    pred = model.predict(image_array)\n",
    "    #print(\"Predicted Number is\",pred.argmax())\n",
    "    return pred.argmax()"
   ]
  },
  {
   "cell_type": "code",
   "execution_count": null,
   "metadata": {},
   "outputs": [],
   "source": [
    "#get_number(image)"
   ]
  },
  {
   "cell_type": "code",
   "execution_count": null,
   "metadata": {},
   "outputs": [],
   "source": []
  }
 ],
 "metadata": {
  "kernelspec": {
   "display_name": "Python 3",
   "language": "python",
   "name": "python3"
  },
  "language_info": {
   "codemirror_mode": {
    "name": "ipython",
    "version": 3
   },
   "file_extension": ".py",
   "mimetype": "text/x-python",
   "name": "python",
   "nbconvert_exporter": "python",
   "pygments_lexer": "ipython3",
   "version": "3.5.2"
  }
 },
 "nbformat": 4,
 "nbformat_minor": 2
}
